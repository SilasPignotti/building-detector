{
  "cells": [
    {
      "cell_type": "markdown",
      "metadata": {},
      "source": [
        "# Building Detector - Colab ML Server\n",
        "\n",
        "This notebook provides the machine learning backend for the Building Detector application. It uses **SAM2 (Segment Anything Model 2)** to detect buildings from satellite imagery based on user-provided point coordinates.\n",
        "\n",
        "## Overview\n",
        "- **Model**: SAM2 Hiera Large for high-accuracy building detection\n",
        "- **Input**: Satellite images + point coordinates from web interface\n",
        "- **Output**: Regularized building polygons as GeoJSON\n",
        "- **Deployment**: Ngrok tunnel for external access\n",
        "\n",
        "## Requirements\n",
        "- Google Colab with GPU runtime (recommended)\n",
        "- Ngrok account with auth token\n",
        "- Internet connection for model downloads (~600MB on first run)"
      ]
    },
    {
      "cell_type": "markdown",
      "metadata": {},
      "source": [
        "## 1. Install Dependencies\n",
        "\n",
        "Installing the required packages for the ML backend server."
      ]
    },
    {
      "cell_type": "code",
      "execution_count": null,
      "metadata": {},
      "outputs": [],
      "source": [
        "!pip install flask-ngrok flask-cors pyngrok\n",
        "%pip install -U segment-geospatial"
      ]
    },
    {
      "cell_type": "markdown",
      "metadata": {},
      "source": [
        "## 2. Configure Ngrok\n",
        "\n",
        "Set up ngrok to create a public tunnel for external access to the Flask server.\n",
        "\n",
        "⚠️ **Important**: Replace `'YOUR_AUTH_TOKEN'` with your actual ngrok token from [ngrok.com](https://ngrok.com)"
      ]
    },
    {
      "cell_type": "code",
      "execution_count": null,
      "metadata": {},
      "outputs": [],
      "source": [
        "from pyngrok import ngrok, conf\n",
        "import os\n",
        "\n",
        "# Replace 'YOUR_AUTH_TOKEN' with your actual token from ngrok.com\n",
        "NGROK_AUTH_TOKEN = 'YOUR_AUTH_TOKEN'\n",
        "ngrok.set_auth_token(NGROK_AUTH_TOKEN)\n",
        "\n",
        "# Configure ngrok region (optional - use 'eu' for Europe)\n",
        "conf.get_default().region = 'eu'"
      ]
    },
    {
      "cell_type": "markdown",
      "metadata": {},
      "source": [
        "## 3. Building Detection Server\n",
        "\n",
        "Flask API server that processes satellite images and detects buildings using SAM2.\n",
        "\n",
        "### Processing Pipeline:\n",
        "1. **Input Validation**: Check for image and points data\n",
        "2. **SAM2 Initialization**: Load the model and set the image\n",
        "3. **Point-based Prediction**: Use provided coordinates to guide detection\n",
        "4. **Region Grouping**: Combine detected pixels into building shapes\n",
        "5. **Regularization**: Clean and smooth building polygons\n",
        "6. **Output**: Return GeoJSON with building footprints"
      ]
    },
    {
      "cell_type": "code",
      "execution_count": null,
      "metadata": {},
      "outputs": [],
      "source": [
        "from flask import Flask, request, jsonify\n",
        "from flask_cors import CORS\n",
        "import os\n",
        "from samgeo import SamGeo2, regularize\n",
        "import tempfile\n",
        "import json\n",
        "import numpy as np\n",
        "import rasterio\n",
        "\n",
        "# Configuration\n",
        "MODEL_ID = \"sam2-hiera-large\"  # Best accuracy model\n",
        "MIN_REGION_SIZE = 200  # Minimum building size in pixels\n",
        "FLASK_PORT = 5000\n",
        "\n",
        "app = Flask(__name__)\n",
        "CORS(app)\n",
        "\n",
        "@app.route('/detect', methods=['POST'])\n",
        "def detect():\n",
        "    try:\n",
        "        if 'image' not in request.files:\n",
        "            return jsonify({'error': 'No image file provided'}), 400\n",
        "\n",
        "        if 'points' not in request.form:\n",
        "            return jsonify({'error': 'No points data provided'}), 400\n",
        "\n",
        "        points = json.loads(request.form['points'])\n",
        "        print(f\"Received points: {points}\")\n",
        "\n",
        "        with tempfile.NamedTemporaryFile(suffix='.tif', delete=False) as temp_image:\n",
        "            request.files['image'].save(temp_image.name)\n",
        "            image_path = temp_image.name\n",
        "            print(f\"Saved image to: {image_path}\")\n",
        "\n",
        "        # Initialize SAM2 model\n",
        "        sam = SamGeo2(model_id=MODEL_ID, automatic=False)\n",
        "        sam.set_image(image_path)\n",
        "        print(\"SAM model initialized and image set\")\n",
        "\n",
        "        with tempfile.NamedTemporaryFile(suffix='.tif', delete=False) as temp_mask, \\\n",
        "            tempfile.NamedTemporaryFile(suffix='.geojson', delete=False) as temp_vector, \\\n",
        "            tempfile.NamedTemporaryFile(suffix='.tif', delete=False) as temp_buildings, \\\n",
        "            tempfile.NamedTemporaryFile(suffix='.geojson', delete=False) as output_regularized:\n",
        "\n",
        "            print(\"Starting prediction with points...\")\n",
        "            sam.predict_by_points(\n",
        "                point_coords_batch=points,\n",
        "                point_crs=\"EPSG:4326\",\n",
        "                output=temp_mask.name,\n",
        "                dtype=\"uint8\",\n",
        "            )\n",
        "            print(f\"Prediction completed, mask saved to: {temp_mask.name}\")\n",
        "\n",
        "            print(\"Starting region grouping...\")\n",
        "            array, gdf = sam.region_groups(\n",
        "                temp_mask.name,\n",
        "                min_size=MIN_REGION_SIZE,\n",
        "                out_vector=temp_vector.name,\n",
        "                out_image=temp_buildings.name\n",
        "            )\n",
        "            print(f\"Region grouping completed, vector saved to: {temp_vector.name}\")\n",
        "\n",
        "            print(\"Starting shape regularization...\")\n",
        "            regularize(temp_vector.name, output_regularized.name)\n",
        "            print(f\"Regularization completed, saved to: {output_regularized.name}\")\n",
        "\n",
        "            with open(output_regularized.name, 'rb') as f:\n",
        "                result = f.read()\n",
        "            print(\"Result read successfully\")\n",
        "\n",
        "        # Cleanup temporary files\n",
        "        os.unlink(image_path)\n",
        "        os.unlink(temp_mask.name)\n",
        "        os.unlink(temp_vector.name)\n",
        "        os.unlink(temp_buildings.name)\n",
        "        os.unlink(output_regularized.name)\n",
        "\n",
        "        return result, 200, {'Content-Type': 'application/json'}\n",
        "\n",
        "    except Exception as e:\n",
        "        import traceback\n",
        "        print(f\"Error in detect: {str(e)}\")\n",
        "        print(traceback.format_exc())\n",
        "        return jsonify({'error': str(e)}), 500"
      ]
    },
    {
      "cell_type": "markdown",
      "metadata": {},
      "source": [
        "## 4. Start Server\n",
        "\n",
        "Create ngrok tunnel and start the Flask server.\n",
        "\n",
        "📋 **Copy the Public URL** that appears below and paste it into your main app's `config.py` file."
      ]
    },
    {
      "cell_type": "code",
      "execution_count": null,
      "metadata": {},
      "outputs": [],
      "source": [
        "# Start ngrok tunnel\n",
        "public_url = ngrok.connect(FLASK_PORT)\n",
        "print(f'🌐 Public URL: {public_url}')\n",
        "print('📋 Copy this URL to your main app\\'s config.py file')\n",
        "print('🚀 Starting Flask server...')\n",
        "\n",
        "# Start Flask server\n",
        "app.run(port=FLASK_PORT)"
      ]
    }
  ],
  "metadata": {
    "kernelspec": {
      "display_name": "Python 3",
      "language": "python",
      "name": "python3"
    },
    "language_info": {
      "codemirror_mode": {
        "name": "ipython",
        "version": 3
      },
      "file_extension": ".py",
      "mimetype": "text/x-python",
      "name": "python",
      "nbconvert_exporter": "python",
      "pygments_lexer": "ipython3",
      "version": "3.8.0"
    }
  },
  "nbformat": 4,
  "nbformat_minor": 4
}